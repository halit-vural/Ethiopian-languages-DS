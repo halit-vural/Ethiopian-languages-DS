{
 "cells": [
  {
   "attachments": {},
   "cell_type": "markdown",
   "metadata": {},
   "source": [
    "Merge two datasets and save it in a new file:"
   ]
  },
  {
   "cell_type": "code",
   "execution_count": 75,
   "metadata": {},
   "outputs": [],
   "source": [
    "  #render figures inline.\n",
    "%matplotlib inline\n",
    "\n",
    "import matplotlib.pyplot as plt\n",
    "\n",
    "import seaborn as sns\n",
    "\n",
    "import pandas as pd\n",
    "import numpy as np\n",
    "from sklearn.utils import shuffle\n",
    "import warnings\n",
    "warnings.filterwarnings(\"ignore\")\n",
    "\n",
    "seed = 42\n",
    "np.random.seed(seed) "
   ]
  },
  {
   "cell_type": "code",
   "execution_count": 76,
   "metadata": {},
   "outputs": [],
   "source": [
    "import datetime\n",
    "now = datetime.datetime.now()\n",
    "timestamp = now.strftime(\"%Y-%m-%d\")"
   ]
  },
  {
   "cell_type": "code",
   "execution_count": 77,
   "metadata": {},
   "outputs": [],
   "source": [
    "dir = '../'\n",
    "data_dir = dir + 'data/'\n",
    "src_paths = ['Amharic News Dataset.csv', 'business_news.csv', 'politics_news.csv']\n",
    "dest_path = data_dir + 'Amharic_corpus_merged_' + timestamp + '.csv'"
   ]
  },
  {
   "cell_type": "code",
   "execution_count": 78,
   "metadata": {},
   "outputs": [],
   "source": [
    "# import os\n",
    "# if not os.path.exists(data_dir):\n",
    "#     os.makedirs(data_dir)"
   ]
  },
  {
   "cell_type": "code",
   "execution_count": 113,
   "metadata": {},
   "outputs": [
    {
     "data": {
      "text/html": [
       "<div>\n",
       "<style scoped>\n",
       "    .dataframe tbody tr th:only-of-type {\n",
       "        vertical-align: middle;\n",
       "    }\n",
       "\n",
       "    .dataframe tbody tr th {\n",
       "        vertical-align: top;\n",
       "    }\n",
       "\n",
       "    .dataframe thead th {\n",
       "        text-align: right;\n",
       "    }\n",
       "</style>\n",
       "<table border=\"1\" class=\"dataframe\">\n",
       "  <thead>\n",
       "    <tr style=\"text-align: right;\">\n",
       "      <th></th>\n",
       "      <th>headline</th>\n",
       "      <th>category</th>\n",
       "      <th>date</th>\n",
       "      <th>views</th>\n",
       "      <th>article</th>\n",
       "      <th>link</th>\n",
       "    </tr>\n",
       "  </thead>\n",
       "  <tbody>\n",
       "    <tr>\n",
       "      <th>37944</th>\n",
       "      <td>የኢድ -አል- አድሐ ወግ ከአባስ ሁሴን ጋር</td>\n",
       "      <td>ሀገር አቀፍ ዜና</td>\n",
       "      <td>August 01, 2020</td>\n",
       "      <td>Unknown</td>\n",
       "      <td>አባስ ሁሴን በዋሺንግተን ዲሲ እና አካባቢዎ ከ20 ዓመት በላይ የኖረ ትው...</td>\n",
       "      <td>https://amharic.voanews.com//a/5526467.html</td>\n",
       "    </tr>\n",
       "    <tr>\n",
       "      <th>14767</th>\n",
       "      <td>በመጀመሪያው ሩብ ዓመት በወጪ ንግድ ዘርፍ ከታሰበው 95 በመቶው ተሳክቷል</td>\n",
       "      <td>ሀገር አቀፍ ዜና</td>\n",
       "      <td>Oct 23, 2020</td>\n",
       "      <td>99</td>\n",
       "      <td>አዲስ አበባ፣ ጥቅምት 13፣ 2013 (ኤፍ.ቢ.ሲ) በተያዘው በጀት ዓመት ...</td>\n",
       "      <td>https://www.fanabc.com/%e1%89%a0%e1%88%98%e1%8...</td>\n",
       "    </tr>\n",
       "    <tr>\n",
       "      <th>8180</th>\n",
       "      <td>ኮቪድ 19 እና የፎቶግራፍ ጥበብ</td>\n",
       "      <td>መዝናኛ</td>\n",
       "      <td>2021-01-04</td>\n",
       "      <td>106</td>\n",
       "      <td>የተወለደው አዲስ አበባ ካሳንችስ አካባቢ ነው። ከጅማ ዩኒቨርስቲ በኢኮኖሚ...</td>\n",
       "      <td>https://addismaleda.com/archives/15409</td>\n",
       "    </tr>\n",
       "    <tr>\n",
       "      <th>21694</th>\n",
       "      <td>የኢቢሲ ዋና ሥራ አስፈጻሚ ከኃላፊነታቸው ለቀቁ</td>\n",
       "      <td>ፖለቲካ</td>\n",
       "      <td>22 May 2019</td>\n",
       "      <td>Unknown</td>\n",
       "      <td>ነባሩን የሕወሓት አመራር አባል አቶ ብርሃነ ኪዳነ ማርያምን ከሁለት ዓመት...</td>\n",
       "      <td>https://www.ethiopianreporter.com/article/15693</td>\n",
       "    </tr>\n",
       "    <tr>\n",
       "      <th>29822</th>\n",
       "      <td>ድሬዳዋ ከተማ የእግድ ውሳኔ ተላለፈበት</td>\n",
       "      <td>ስፖርት</td>\n",
       "      <td>July 12, 2019</td>\n",
       "      <td>Unknown</td>\n",
       "      <td>ድሬዳዋ ከተማ ሶስት ተጫዋቾችን በማሰናበቱ ፌድሬሽኑ ያለ አግባብ ነው ውሳ...</td>\n",
       "      <td>https://soccerethiopia.net/football/49281</td>\n",
       "    </tr>\n",
       "    <tr>\n",
       "      <th>14458</th>\n",
       "      <td>የመከላከያ ሰራዊት ከየትኛውም አቅጣጫ ሊሰነዘር የሚችልን ጥቃት በብቃት መ...</td>\n",
       "      <td>ሀገር አቀፍ ዜና</td>\n",
       "      <td>Nov 6, 2020</td>\n",
       "      <td>1,175</td>\n",
       "      <td>አዲስ አበባ ፣ ጥቅምት 27 ፣ 2013 (ኤፍ ቢ ሲ) ከሀገር ውስጥም ሆነ...</td>\n",
       "      <td>https://www.fanabc.com/%e1%8b%a8%e1%88%98%e1%8...</td>\n",
       "    </tr>\n",
       "    <tr>\n",
       "      <th>34791</th>\n",
       "      <td>ታክቲካዊ ትዝብቶች ፡ የቡና የመስመር አጨዋወት እና የሀዲያ ሆሳዕና የመከ...</td>\n",
       "      <td>ስፖርት</td>\n",
       "      <td>March 1, 2016</td>\n",
       "      <td>Unknown</td>\n",
       "      <td>ትናንት ምሽት በአዲስ አበባ ስታዲየም በተደረገው የኢትዮጵያ ፕሪምየር ሊ...</td>\n",
       "      <td>https://soccerethiopia.net/football/6555</td>\n",
       "    </tr>\n",
       "    <tr>\n",
       "      <th>10874</th>\n",
       "      <td>ከተለያዩ የሀገሪቱ ክፍሎች በሕገ ወጥ መንገድ ወደሱዳን ለመውጣት የተሰባሰ...</td>\n",
       "      <td>ሀገር አቀፍ ዜና</td>\n",
       "      <td>February 28, 2020</td>\n",
       "      <td>71</td>\n",
       "      <td>ከሀገሪቱ የተለያዩ ክፍሎች በሕገ ወጥ መንገድ ወደሱዳን ለመውጣት የተሰባሰ...</td>\n",
       "      <td>https://www.amharaweb.com/5327-2/</td>\n",
       "    </tr>\n",
       "    <tr>\n",
       "      <th>6547</th>\n",
       "      <td>ኮካኮላ ለ30 የዩኒቨርሲቲ ተማሪዎች ድጋፍ ያደርጋል</td>\n",
       "      <td>ቢዝነስ</td>\n",
       "      <td>Saturday, 27 September 2014 09:42</td>\n",
       "      <td>1385</td>\n",
       "      <td>ኢስት አፍሪካ ቦትሊንግ አክሲዮን ማህበር (ኮካኮላ) ከመንግስት ዩኒቨር...</td>\n",
       "      <td>https://www.addisadmassnews.com/index.php?opti...</td>\n",
       "    </tr>\n",
       "    <tr>\n",
       "      <th>47090</th>\n",
       "      <td>የቦንጋ ምርጫ ክልል የተካሄደው የድምጽ አሰጣጥ ሂደት ተጠናቀቀ</td>\n",
       "      <td>ፖለቲካ</td>\n",
       "      <td>June 15, 2015</td>\n",
       "      <td>Unknown</td>\n",
       "      <td>-በ2007ቱ አጠቃላይ ሀገራዊ ምርጫ ተራዝሞ የነበረው የቦንጋ ምርጫ ክልል...</td>\n",
       "      <td>https://waltainfo.com/am/25442/</td>\n",
       "    </tr>\n",
       "  </tbody>\n",
       "</table>\n",
       "</div>"
      ],
      "text/plain": [
       "                                                headline    category  \\\n",
       "37944                        የኢድ -አል- አድሐ ወግ ከአባስ ሁሴን ጋር  ሀገር አቀፍ ዜና   \n",
       "14767     በመጀመሪያው ሩብ ዓመት በወጪ ንግድ ዘርፍ ከታሰበው 95 በመቶው ተሳክቷል  ሀገር አቀፍ ዜና   \n",
       "8180                                ኮቪድ 19 እና የፎቶግራፍ ጥበብ        መዝናኛ   \n",
       "21694                      የኢቢሲ ዋና ሥራ አስፈጻሚ ከኃላፊነታቸው ለቀቁ        ፖለቲካ   \n",
       "29822                           ድሬዳዋ ከተማ የእግድ ውሳኔ ተላለፈበት        ስፖርት   \n",
       "14458  የመከላከያ ሰራዊት ከየትኛውም አቅጣጫ ሊሰነዘር የሚችልን ጥቃት በብቃት መ...  ሀገር አቀፍ ዜና   \n",
       "34791  ታክቲካዊ ትዝብቶች ፡ የቡና የመስመር አጨዋወት እና የሀዲያ ሆሳዕና የመከ...        ስፖርት   \n",
       "10874  ከተለያዩ የሀገሪቱ ክፍሎች በሕገ ወጥ መንገድ ወደሱዳን ለመውጣት የተሰባሰ...  ሀገር አቀፍ ዜና   \n",
       "6547                   ኮካኮላ ለ30 የዩኒቨርሲቲ ተማሪዎች ድጋፍ ያደርጋል         ቢዝነስ   \n",
       "47090            የቦንጋ ምርጫ ክልል የተካሄደው የድምጽ አሰጣጥ ሂደት ተጠናቀቀ        ፖለቲካ   \n",
       "\n",
       "                                     date    views  \\\n",
       "37944                     August 01, 2020  Unknown   \n",
       "14767                        Oct 23, 2020       99   \n",
       "8180                           2021-01-04      106   \n",
       "21694                         22 May 2019  Unknown   \n",
       "29822                       July 12, 2019  Unknown   \n",
       "14458                         Nov 6, 2020    1,175   \n",
       "34791                       March 1, 2016  Unknown   \n",
       "10874                   February 28, 2020       71   \n",
       "6547   Saturday, 27 September 2014 09:42      1385   \n",
       "47090                       June 15, 2015  Unknown   \n",
       "\n",
       "                                                 article  \\\n",
       "37944  አባስ ሁሴን በዋሺንግተን ዲሲ እና አካባቢዎ ከ20 ዓመት በላይ የኖረ ትው...   \n",
       "14767  አዲስ አበባ፣ ጥቅምት 13፣ 2013 (ኤፍ.ቢ.ሲ) በተያዘው በጀት ዓመት ...   \n",
       "8180   የተወለደው አዲስ አበባ ካሳንችስ አካባቢ ነው። ከጅማ ዩኒቨርስቲ በኢኮኖሚ...   \n",
       "21694  ነባሩን የሕወሓት አመራር አባል አቶ ብርሃነ ኪዳነ ማርያምን ከሁለት ዓመት...   \n",
       "29822  ድሬዳዋ ከተማ ሶስት ተጫዋቾችን በማሰናበቱ ፌድሬሽኑ ያለ አግባብ ነው ውሳ...   \n",
       "14458  አዲስ አበባ ፣ ጥቅምት 27 ፣ 2013 (ኤፍ ቢ ሲ) ከሀገር ውስጥም ሆነ...   \n",
       "34791   ትናንት ምሽት በአዲስ አበባ ስታዲየም በተደረገው የኢትዮጵያ ፕሪምየር ሊ...   \n",
       "10874  ከሀገሪቱ የተለያዩ ክፍሎች በሕገ ወጥ መንገድ ወደሱዳን ለመውጣት የተሰባሰ...   \n",
       "6547     ኢስት አፍሪካ ቦትሊንግ አክሲዮን ማህበር (ኮካኮላ) ከመንግስት ዩኒቨር...   \n",
       "47090  -በ2007ቱ አጠቃላይ ሀገራዊ ምርጫ ተራዝሞ የነበረው የቦንጋ ምርጫ ክልል...   \n",
       "\n",
       "                                                    link  \n",
       "37944        https://amharic.voanews.com//a/5526467.html  \n",
       "14767  https://www.fanabc.com/%e1%89%a0%e1%88%98%e1%8...  \n",
       "8180              https://addismaleda.com/archives/15409  \n",
       "21694    https://www.ethiopianreporter.com/article/15693  \n",
       "29822          https://soccerethiopia.net/football/49281  \n",
       "14458  https://www.fanabc.com/%e1%8b%a8%e1%88%98%e1%8...  \n",
       "34791           https://soccerethiopia.net/football/6555  \n",
       "10874                  https://www.amharaweb.com/5327-2/  \n",
       "6547   https://www.addisadmassnews.com/index.php?opti...  \n",
       "47090                    https://waltainfo.com/am/25442/  "
      ]
     },
     "execution_count": 113,
     "metadata": {},
     "output_type": "execute_result"
    }
   ],
   "source": [
    "path = data_dir + src_paths[0]\n",
    "data = pd.read_csv(path)\n",
    "data = shuffle(data)\n",
    "data.head(10)"
   ]
  },
  {
   "cell_type": "code",
   "execution_count": 114,
   "metadata": {},
   "outputs": [
    {
     "name": "stdout",
     "output_type": "stream",
     "text": [
      "<class 'pandas.core.frame.DataFrame'>\n",
      "Int64Index: 51483 entries, 37944 to 32143\n",
      "Data columns (total 6 columns):\n",
      " #   Column    Non-Null Count  Dtype \n",
      "---  ------    --------------  ----- \n",
      " 0   headline  51470 non-null  object\n",
      " 1   category  51482 non-null  object\n",
      " 2   date      51483 non-null  object\n",
      " 3   views     51483 non-null  object\n",
      " 4   article   51483 non-null  object\n",
      " 5   link      51483 non-null  object\n",
      "dtypes: object(6)\n",
      "memory usage: 2.7+ MB\n"
     ]
    }
   ],
   "source": [
    "data.info()"
   ]
  },
  {
   "cell_type": "code",
   "execution_count": 115,
   "metadata": {},
   "outputs": [
    {
     "data": {
      "text/plain": [
       "headline    13\n",
       "category     1\n",
       "date         0\n",
       "views        0\n",
       "article      0\n",
       "link         0\n",
       "dtype: int64"
      ]
     },
     "execution_count": 115,
     "metadata": {},
     "output_type": "execute_result"
    }
   ],
   "source": [
    "data.isnull().sum()"
   ]
  },
  {
   "cell_type": "code",
   "execution_count": 118,
   "metadata": {},
   "outputs": [
    {
     "data": {
      "text/html": [
       "<div>\n",
       "<style scoped>\n",
       "    .dataframe tbody tr th:only-of-type {\n",
       "        vertical-align: middle;\n",
       "    }\n",
       "\n",
       "    .dataframe tbody tr th {\n",
       "        vertical-align: top;\n",
       "    }\n",
       "\n",
       "    .dataframe thead th {\n",
       "        text-align: right;\n",
       "    }\n",
       "</style>\n",
       "<table border=\"1\" class=\"dataframe\">\n",
       "  <thead>\n",
       "    <tr style=\"text-align: right;\">\n",
       "      <th></th>\n",
       "      <th>article</th>\n",
       "      <th>category</th>\n",
       "    </tr>\n",
       "  </thead>\n",
       "  <tbody>\n",
       "    <tr>\n",
       "      <th>37944</th>\n",
       "      <td>አባስ ሁሴን በዋሺንግተን ዲሲ እና አካባቢዎ ከ20 ዓመት በላይ የኖረ ትው...</td>\n",
       "      <td>ሀገር አቀፍ ዜና</td>\n",
       "    </tr>\n",
       "    <tr>\n",
       "      <th>14767</th>\n",
       "      <td>አዲስ አበባ፣ ጥቅምት 13፣ 2013 (ኤፍ.ቢ.ሲ) በተያዘው በጀት ዓመት ...</td>\n",
       "      <td>ሀገር አቀፍ ዜና</td>\n",
       "    </tr>\n",
       "    <tr>\n",
       "      <th>8180</th>\n",
       "      <td>የተወለደው አዲስ አበባ ካሳንችስ አካባቢ ነው። ከጅማ ዩኒቨርስቲ በኢኮኖሚ...</td>\n",
       "      <td>መዝናኛ</td>\n",
       "    </tr>\n",
       "    <tr>\n",
       "      <th>21694</th>\n",
       "      <td>ነባሩን የሕወሓት አመራር አባል አቶ ብርሃነ ኪዳነ ማርያምን ከሁለት ዓመት...</td>\n",
       "      <td>ፖለቲካ</td>\n",
       "    </tr>\n",
       "    <tr>\n",
       "      <th>29822</th>\n",
       "      <td>ድሬዳዋ ከተማ ሶስት ተጫዋቾችን በማሰናበቱ ፌድሬሽኑ ያለ አግባብ ነው ውሳ...</td>\n",
       "      <td>ስፖርት</td>\n",
       "    </tr>\n",
       "    <tr>\n",
       "      <th>14458</th>\n",
       "      <td>አዲስ አበባ ፣ ጥቅምት 27 ፣ 2013 (ኤፍ ቢ ሲ) ከሀገር ውስጥም ሆነ...</td>\n",
       "      <td>ሀገር አቀፍ ዜና</td>\n",
       "    </tr>\n",
       "    <tr>\n",
       "      <th>34791</th>\n",
       "      <td>ትናንት ምሽት በአዲስ አበባ ስታዲየም በተደረገው የኢትዮጵያ ፕሪምየር ሊ...</td>\n",
       "      <td>ስፖርት</td>\n",
       "    </tr>\n",
       "    <tr>\n",
       "      <th>10874</th>\n",
       "      <td>ከሀገሪቱ የተለያዩ ክፍሎች በሕገ ወጥ መንገድ ወደሱዳን ለመውጣት የተሰባሰ...</td>\n",
       "      <td>ሀገር አቀፍ ዜና</td>\n",
       "    </tr>\n",
       "    <tr>\n",
       "      <th>6547</th>\n",
       "      <td>ኢስት አፍሪካ ቦትሊንግ አክሲዮን ማህበር (ኮካኮላ) ከመንግስት ዩኒቨር...</td>\n",
       "      <td>ቢዝነስ</td>\n",
       "    </tr>\n",
       "    <tr>\n",
       "      <th>47090</th>\n",
       "      <td>-በ2007ቱ አጠቃላይ ሀገራዊ ምርጫ ተራዝሞ የነበረው የቦንጋ ምርጫ ክልል...</td>\n",
       "      <td>ፖለቲካ</td>\n",
       "    </tr>\n",
       "  </tbody>\n",
       "</table>\n",
       "</div>"
      ],
      "text/plain": [
       "                                                 article    category\n",
       "37944  አባስ ሁሴን በዋሺንግተን ዲሲ እና አካባቢዎ ከ20 ዓመት በላይ የኖረ ትው...  ሀገር አቀፍ ዜና\n",
       "14767  አዲስ አበባ፣ ጥቅምት 13፣ 2013 (ኤፍ.ቢ.ሲ) በተያዘው በጀት ዓመት ...  ሀገር አቀፍ ዜና\n",
       "8180   የተወለደው አዲስ አበባ ካሳንችስ አካባቢ ነው። ከጅማ ዩኒቨርስቲ በኢኮኖሚ...        መዝናኛ\n",
       "21694  ነባሩን የሕወሓት አመራር አባል አቶ ብርሃነ ኪዳነ ማርያምን ከሁለት ዓመት...        ፖለቲካ\n",
       "29822  ድሬዳዋ ከተማ ሶስት ተጫዋቾችን በማሰናበቱ ፌድሬሽኑ ያለ አግባብ ነው ውሳ...        ስፖርት\n",
       "14458  አዲስ አበባ ፣ ጥቅምት 27 ፣ 2013 (ኤፍ ቢ ሲ) ከሀገር ውስጥም ሆነ...  ሀገር አቀፍ ዜና\n",
       "34791   ትናንት ምሽት በአዲስ አበባ ስታዲየም በተደረገው የኢትዮጵያ ፕሪምየር ሊ...        ስፖርት\n",
       "10874  ከሀገሪቱ የተለያዩ ክፍሎች በሕገ ወጥ መንገድ ወደሱዳን ለመውጣት የተሰባሰ...  ሀገር አቀፍ ዜና\n",
       "6547     ኢስት አፍሪካ ቦትሊንግ አክሲዮን ማህበር (ኮካኮላ) ከመንግስት ዩኒቨር...        ቢዝነስ\n",
       "47090  -በ2007ቱ አጠቃላይ ሀገራዊ ምርጫ ተራዝሞ የነበረው የቦንጋ ምርጫ ክልል...        ፖለቲካ"
      ]
     },
     "execution_count": 118,
     "metadata": {},
     "output_type": "execute_result"
    }
   ],
   "source": [
    "data = data[['article', 'category']]\n",
    "n_data = data.copy()\n",
    "n_data.head(10)"
   ]
  },
  {
   "cell_type": "code",
   "execution_count": 119,
   "metadata": {},
   "outputs": [
    {
     "data": {
      "text/plain": [
       "article     0\n",
       "category    1\n",
       "dtype: int64"
      ]
     },
     "execution_count": 119,
     "metadata": {},
     "output_type": "execute_result"
    }
   ],
   "source": [
    "n_data.isnull().sum()"
   ]
  },
  {
   "attachments": {},
   "cell_type": "markdown",
   "metadata": {},
   "source": [
    "## Business Data"
   ]
  },
  {
   "cell_type": "code",
   "execution_count": 120,
   "metadata": {},
   "outputs": [
    {
     "data": {
      "text/html": [
       "<div>\n",
       "<style scoped>\n",
       "    .dataframe tbody tr th:only-of-type {\n",
       "        vertical-align: middle;\n",
       "    }\n",
       "\n",
       "    .dataframe tbody tr th {\n",
       "        vertical-align: top;\n",
       "    }\n",
       "\n",
       "    .dataframe thead th {\n",
       "        text-align: right;\n",
       "    }\n",
       "</style>\n",
       "<table border=\"1\" class=\"dataframe\">\n",
       "  <thead>\n",
       "    <tr style=\"text-align: right;\">\n",
       "      <th></th>\n",
       "      <th>Date</th>\n",
       "      <th>Title</th>\n",
       "      <th>Page</th>\n",
       "      <th>URL</th>\n",
       "      <th>Linked_URL</th>\n",
       "      <th>NEWS_CONTENT</th>\n",
       "    </tr>\n",
       "  </thead>\n",
       "  <tbody>\n",
       "    <tr>\n",
       "      <th>2304</th>\n",
       "      <td>NaN</td>\n",
       "      <td>\\n\\nበሚቀጥለው ዓመት ለግብርና ዘርፍ በርካታ ፕሮጀክቶች ለጨረታ ይቀርባሉ</td>\n",
       "      <td>231</td>\n",
       "      <td>https://www.ethiopianreporter.com/64482</td>\n",
       "      <td>[]</td>\n",
       "      <td>\\n\\n\\nየኢትዮጵያ ግብርና ዘርፍ ከዝናብ ጥገኝነት በማላቀቅ ወደ ሰፋፊ ...</td>\n",
       "    </tr>\n",
       "  </tbody>\n",
       "</table>\n",
       "</div>"
      ],
      "text/plain": [
       "      Date                                            Title  Page  \\\n",
       "2304   NaN  \\n\\nበሚቀጥለው ዓመት ለግብርና ዘርፍ በርካታ ፕሮጀክቶች ለጨረታ ይቀርባሉ   231   \n",
       "\n",
       "                                          URL Linked_URL  \\\n",
       "2304  https://www.ethiopianreporter.com/64482         []   \n",
       "\n",
       "                                           NEWS_CONTENT  \n",
       "2304  \\n\\n\\nየኢትዮጵያ ግብርና ዘርፍ ከዝናብ ጥገኝነት በማላቀቅ ወደ ሰፋፊ ...  "
      ]
     },
     "execution_count": 120,
     "metadata": {},
     "output_type": "execute_result"
    }
   ],
   "source": [
    "path = data_dir + src_paths[1]\n",
    "data = pd.read_csv(path)\n",
    "data = shuffle(data)\n",
    "data.head(1)"
   ]
  },
  {
   "cell_type": "code",
   "execution_count": 121,
   "metadata": {},
   "outputs": [
    {
     "name": "stdout",
     "output_type": "stream",
     "text": [
      "<class 'pandas.core.frame.DataFrame'>\n",
      "Int64Index: 5281 entries, 2304 to 3638\n",
      "Data columns (total 6 columns):\n",
      " #   Column        Non-Null Count  Dtype  \n",
      "---  ------        --------------  -----  \n",
      " 0   Date          0 non-null      float64\n",
      " 1   Title         5276 non-null   object \n",
      " 2   Page          5281 non-null   int64  \n",
      " 3   URL           5281 non-null   object \n",
      " 4   Linked_URL    5281 non-null   object \n",
      " 5   NEWS_CONTENT  5276 non-null   object \n",
      "dtypes: float64(1), int64(1), object(4)\n",
      "memory usage: 288.8+ KB\n"
     ]
    }
   ],
   "source": [
    "data.info()"
   ]
  },
  {
   "cell_type": "code",
   "execution_count": 122,
   "metadata": {},
   "outputs": [
    {
     "data": {
      "text/plain": [
       "Date            5281\n",
       "Title              5\n",
       "Page               0\n",
       "URL                0\n",
       "Linked_URL         0\n",
       "NEWS_CONTENT       5\n",
       "dtype: int64"
      ]
     },
     "execution_count": 122,
     "metadata": {},
     "output_type": "execute_result"
    }
   ],
   "source": [
    "data.isnull().sum()"
   ]
  },
  {
   "cell_type": "code",
   "execution_count": 123,
   "metadata": {},
   "outputs": [
    {
     "data": {
      "text/html": [
       "<div>\n",
       "<style scoped>\n",
       "    .dataframe tbody tr th:only-of-type {\n",
       "        vertical-align: middle;\n",
       "    }\n",
       "\n",
       "    .dataframe tbody tr th {\n",
       "        vertical-align: top;\n",
       "    }\n",
       "\n",
       "    .dataframe thead th {\n",
       "        text-align: right;\n",
       "    }\n",
       "</style>\n",
       "<table border=\"1\" class=\"dataframe\">\n",
       "  <thead>\n",
       "    <tr style=\"text-align: right;\">\n",
       "      <th></th>\n",
       "      <th>article</th>\n",
       "      <th>category</th>\n",
       "    </tr>\n",
       "  </thead>\n",
       "  <tbody>\n",
       "    <tr>\n",
       "      <th>2304</th>\n",
       "      <td>\\n\\n\\nየኢትዮጵያ ግብርና ዘርፍ ከዝናብ ጥገኝነት በማላቀቅ ወደ ሰፋፊ ...</td>\n",
       "      <td>Business</td>\n",
       "    </tr>\n",
       "    <tr>\n",
       "      <th>131</th>\n",
       "      <td>\\n\\n\\nብሔራዊ ባንክ ከአገር ውስጥ አምራቾች ወርቅ የሚገዛበትን ዋጋና ...</td>\n",
       "      <td>Business</td>\n",
       "    </tr>\n",
       "  </tbody>\n",
       "</table>\n",
       "</div>"
      ],
      "text/plain": [
       "                                                article  category\n",
       "2304  \\n\\n\\nየኢትዮጵያ ግብርና ዘርፍ ከዝናብ ጥገኝነት በማላቀቅ ወደ ሰፋፊ ...  Business\n",
       "131   \\n\\n\\nብሔራዊ ባንክ ከአገር ውስጥ አምራቾች ወርቅ የሚገዛበትን ዋጋና ...  Business"
      ]
     },
     "execution_count": 123,
     "metadata": {},
     "output_type": "execute_result"
    }
   ],
   "source": [
    "data['article'] = data['NEWS_CONTENT']\n",
    "data['category'] = 'Business'\n",
    "data = data[['article','category']]\n",
    "data.head(2)"
   ]
  },
  {
   "cell_type": "code",
   "execution_count": 124,
   "metadata": {},
   "outputs": [],
   "source": [
    "data.dropna(inplace=True)"
   ]
  },
  {
   "cell_type": "code",
   "execution_count": 125,
   "metadata": {},
   "outputs": [
    {
     "data": {
      "text/plain": [
       "article     0\n",
       "category    0\n",
       "dtype: int64"
      ]
     },
     "execution_count": 125,
     "metadata": {},
     "output_type": "execute_result"
    }
   ],
   "source": [
    "data.isnull().sum()"
   ]
  },
  {
   "cell_type": "code",
   "execution_count": 126,
   "metadata": {},
   "outputs": [
    {
     "data": {
      "text/html": [
       "<div>\n",
       "<style scoped>\n",
       "    .dataframe tbody tr th:only-of-type {\n",
       "        vertical-align: middle;\n",
       "    }\n",
       "\n",
       "    .dataframe tbody tr th {\n",
       "        vertical-align: top;\n",
       "    }\n",
       "\n",
       "    .dataframe thead th {\n",
       "        text-align: right;\n",
       "    }\n",
       "</style>\n",
       "<table border=\"1\" class=\"dataframe\">\n",
       "  <thead>\n",
       "    <tr style=\"text-align: right;\">\n",
       "      <th></th>\n",
       "      <th>article</th>\n",
       "      <th>category</th>\n",
       "    </tr>\n",
       "  </thead>\n",
       "  <tbody>\n",
       "    <tr>\n",
       "      <th>11503</th>\n",
       "      <td>ባሕር ዳር፡ መስከረም 20/2012 ዓ/ም (አብመድ) የሩሲያ ኦርቶዶክስ ቤ...</td>\n",
       "      <td>ዓለም አቀፍ ዜና</td>\n",
       "    </tr>\n",
       "    <tr>\n",
       "      <th>48010</th>\n",
       "      <td>አዲስ አበባ ፣ ህዳር 7/ 2006 (ዋኢማ) – የተጀመረውን የህዳሴ ጉዞ ...</td>\n",
       "      <td>ፖለቲካ</td>\n",
       "    </tr>\n",
       "    <tr>\n",
       "      <th>38016</th>\n",
       "      <td>ማሊ ውስጥ በመቶዎች የሚቆጠሩ ሰዎች፣ በመፈንቅለ መንግሥት ሥልጣን ያያዘው...</td>\n",
       "      <td>ሀገር አቀፍ ዜና</td>\n",
       "    </tr>\n",
       "    <tr>\n",
       "      <th>10333</th>\n",
       "      <td>በባሕር ዳር ከተማ አስተዳደር ቅዳሜ ለእሑድ አጥቢያ በሁለት አካባቢዎች የ...</td>\n",
       "      <td>ሀገር አቀፍ ዜና</td>\n",
       "    </tr>\n",
       "    <tr>\n",
       "      <th>32130</th>\n",
       "      <td>የካፍ ኮንፌዴሬሽን ዋንጫ የሁለተኛ ዙር የመጀመርያ ጨዋታዎች ከትላንት ጀም...</td>\n",
       "      <td>ስፖርት</td>\n",
       "    </tr>\n",
       "    <tr>\n",
       "      <th>35150</th>\n",
       "      <td>የኢትዮጵያ ብሄራዊ ሊግ ሩብ ፍፃሜ ጨዋታዎች ዛሬ ጠዋት ተጀምረዋል፡፡ ጠዋ...</td>\n",
       "      <td>ስፖርት</td>\n",
       "    </tr>\n",
       "    <tr>\n",
       "      <th>3503</th>\n",
       "      <td>አዲስ አበባ፦ የኢህአዴግ ውህደት በስምምነት ላይ መመስረቱ ለአገሪቱና ለህ...</td>\n",
       "      <td>ሀገር አቀፍ ዜና</td>\n",
       "    </tr>\n",
       "    <tr>\n",
       "      <th>23963</th>\n",
       "      <td>የአዲስ አበባ ከተማ አስተዳደር በዙሪያው ለሚገኙ የኦሮሚያ ልዩ ዞን ከተሞ...</td>\n",
       "      <td>ሀገር አቀፍ ዜና</td>\n",
       "    </tr>\n",
       "    <tr>\n",
       "      <th>23115</th>\n",
       "      <td>በአዲስ አበባ ከተማን ንፁህ የመጠጥ ውኃ አቅርቦት አስተማማኝ ለማድረግ በ...</td>\n",
       "      <td>ሀገር አቀፍ ዜና</td>\n",
       "    </tr>\n",
       "    <tr>\n",
       "      <th>3130</th>\n",
       "      <td>የበርበሬ የተፈጥሮ ምሽግና በርበሬ የቀዬው አድባር ወደሆነበት ድንቁ መንደ...</td>\n",
       "      <td>ሀገር አቀፍ ዜና</td>\n",
       "    </tr>\n",
       "  </tbody>\n",
       "</table>\n",
       "</div>"
      ],
      "text/plain": [
       "                                                 article    category\n",
       "11503  ባሕር ዳር፡ መስከረም 20/2012 ዓ/ም (አብመድ) የሩሲያ ኦርቶዶክስ ቤ...  ዓለም አቀፍ ዜና\n",
       "48010  አዲስ አበባ ፣ ህዳር 7/ 2006 (ዋኢማ) – የተጀመረውን የህዳሴ ጉዞ ...        ፖለቲካ\n",
       "38016  ማሊ ውስጥ በመቶዎች የሚቆጠሩ ሰዎች፣ በመፈንቅለ መንግሥት ሥልጣን ያያዘው...  ሀገር አቀፍ ዜና\n",
       "10333  በባሕር ዳር ከተማ አስተዳደር ቅዳሜ ለእሑድ አጥቢያ በሁለት አካባቢዎች የ...  ሀገር አቀፍ ዜና\n",
       "32130  የካፍ ኮንፌዴሬሽን ዋንጫ የሁለተኛ ዙር የመጀመርያ ጨዋታዎች ከትላንት ጀም...        ስፖርት\n",
       "35150  የኢትዮጵያ ብሄራዊ ሊግ ሩብ ፍፃሜ ጨዋታዎች ዛሬ ጠዋት ተጀምረዋል፡፡ ጠዋ...        ስፖርት\n",
       "3503   አዲስ አበባ፦ የኢህአዴግ ውህደት በስምምነት ላይ መመስረቱ ለአገሪቱና ለህ...  ሀገር አቀፍ ዜና\n",
       "23963  የአዲስ አበባ ከተማ አስተዳደር በዙሪያው ለሚገኙ የኦሮሚያ ልዩ ዞን ከተሞ...  ሀገር አቀፍ ዜና\n",
       "23115  በአዲስ አበባ ከተማን ንፁህ የመጠጥ ውኃ አቅርቦት አስተማማኝ ለማድረግ በ...  ሀገር አቀፍ ዜና\n",
       "3130   የበርበሬ የተፈጥሮ ምሽግና በርበሬ የቀዬው አድባር ወደሆነበት ድንቁ መንደ...  ሀገር አቀፍ ዜና"
      ]
     },
     "execution_count": 126,
     "metadata": {},
     "output_type": "execute_result"
    }
   ],
   "source": [
    "df = pd.concat([n_data, data])\n",
    "df.sample(10)"
   ]
  },
  {
   "cell_type": "code",
   "execution_count": 131,
   "metadata": {},
   "outputs": [
    {
     "name": "stdout",
     "output_type": "stream",
     "text": [
      "<class 'pandas.core.frame.DataFrame'>\n",
      "Int64Index: 56759 entries, 37944 to 3638\n",
      "Data columns (total 2 columns):\n",
      " #   Column    Non-Null Count  Dtype \n",
      "---  ------    --------------  ----- \n",
      " 0   article   56759 non-null  object\n",
      " 1   category  56758 non-null  object\n",
      "dtypes: object(2)\n",
      "memory usage: 1.3+ MB\n"
     ]
    }
   ],
   "source": [
    "df.info()"
   ]
  },
  {
   "cell_type": "code",
   "execution_count": 130,
   "metadata": {},
   "outputs": [
    {
     "data": {
      "text/plain": [
       "article     0\n",
       "category    1\n",
       "dtype: int64"
      ]
     },
     "execution_count": 130,
     "metadata": {},
     "output_type": "execute_result"
    }
   ],
   "source": [
    "df.isna().sum()"
   ]
  },
  {
   "cell_type": "code",
   "execution_count": 132,
   "metadata": {},
   "outputs": [],
   "source": [
    "n_data = df.copy()"
   ]
  },
  {
   "attachments": {},
   "cell_type": "markdown",
   "metadata": {},
   "source": [
    "## Politics Data"
   ]
  },
  {
   "cell_type": "code",
   "execution_count": 137,
   "metadata": {},
   "outputs": [
    {
     "data": {
      "text/html": [
       "<div>\n",
       "<style scoped>\n",
       "    .dataframe tbody tr th:only-of-type {\n",
       "        vertical-align: middle;\n",
       "    }\n",
       "\n",
       "    .dataframe tbody tr th {\n",
       "        vertical-align: top;\n",
       "    }\n",
       "\n",
       "    .dataframe thead th {\n",
       "        text-align: right;\n",
       "    }\n",
       "</style>\n",
       "<table border=\"1\" class=\"dataframe\">\n",
       "  <thead>\n",
       "    <tr style=\"text-align: right;\">\n",
       "      <th></th>\n",
       "      <th>Date</th>\n",
       "      <th>Title</th>\n",
       "      <th>Page</th>\n",
       "      <th>URL</th>\n",
       "      <th>Linked_URL</th>\n",
       "      <th>NEWS_CONTENT</th>\n",
       "    </tr>\n",
       "  </thead>\n",
       "  <tbody>\n",
       "    <tr>\n",
       "      <th>4461</th>\n",
       "      <td>NaN</td>\n",
       "      <td>\\n\\nየፓርላማ አባላት አዲሱ የፓርላማ ሕንፃ ግንባታ ለምን እንደዘገየ ጥ...</td>\n",
       "      <td>447</td>\n",
       "      <td>https://www.ethiopianreporter.com/50187</td>\n",
       "      <td>[]</td>\n",
       "      <td>\\n\\n\\n– የፓርላማ አባላትን ደኅንነት ፌዴራል ፖሊስ እንዲጠብቅ በጥብቅ...</td>\n",
       "    </tr>\n",
       "  </tbody>\n",
       "</table>\n",
       "</div>"
      ],
      "text/plain": [
       "      Date                                              Title  Page  \\\n",
       "4461   NaN  \\n\\nየፓርላማ አባላት አዲሱ የፓርላማ ሕንፃ ግንባታ ለምን እንደዘገየ ጥ...   447   \n",
       "\n",
       "                                          URL Linked_URL  \\\n",
       "4461  https://www.ethiopianreporter.com/50187         []   \n",
       "\n",
       "                                           NEWS_CONTENT  \n",
       "4461  \\n\\n\\n– የፓርላማ አባላትን ደኅንነት ፌዴራል ፖሊስ እንዲጠብቅ በጥብቅ...  "
      ]
     },
     "execution_count": 137,
     "metadata": {},
     "output_type": "execute_result"
    }
   ],
   "source": [
    "path = data_dir + src_paths[2]\n",
    "data = pd.read_csv(path)\n",
    "data = shuffle(data)\n",
    "data.head(1)"
   ]
  },
  {
   "cell_type": "code",
   "execution_count": 138,
   "metadata": {},
   "outputs": [
    {
     "name": "stdout",
     "output_type": "stream",
     "text": [
      "<class 'pandas.core.frame.DataFrame'>\n",
      "Int64Index: 5161 entries, 4461 to 4365\n",
      "Data columns (total 6 columns):\n",
      " #   Column        Non-Null Count  Dtype  \n",
      "---  ------        --------------  -----  \n",
      " 0   Date          0 non-null      float64\n",
      " 1   Title         5156 non-null   object \n",
      " 2   Page          5161 non-null   int64  \n",
      " 3   URL           5161 non-null   object \n",
      " 4   Linked_URL    5161 non-null   object \n",
      " 5   NEWS_CONTENT  5156 non-null   object \n",
      "dtypes: float64(1), int64(1), object(4)\n",
      "memory usage: 282.2+ KB\n"
     ]
    }
   ],
   "source": [
    "data.info()"
   ]
  },
  {
   "cell_type": "code",
   "execution_count": 139,
   "metadata": {},
   "outputs": [
    {
     "data": {
      "text/plain": [
       "Date            5161\n",
       "Title              5\n",
       "Page               0\n",
       "URL                0\n",
       "Linked_URL         0\n",
       "NEWS_CONTENT       5\n",
       "dtype: int64"
      ]
     },
     "execution_count": 139,
     "metadata": {},
     "output_type": "execute_result"
    }
   ],
   "source": [
    "data.isna().sum()"
   ]
  },
  {
   "cell_type": "code",
   "execution_count": 140,
   "metadata": {},
   "outputs": [
    {
     "data": {
      "text/html": [
       "<div>\n",
       "<style scoped>\n",
       "    .dataframe tbody tr th:only-of-type {\n",
       "        vertical-align: middle;\n",
       "    }\n",
       "\n",
       "    .dataframe tbody tr th {\n",
       "        vertical-align: top;\n",
       "    }\n",
       "\n",
       "    .dataframe thead th {\n",
       "        text-align: right;\n",
       "    }\n",
       "</style>\n",
       "<table border=\"1\" class=\"dataframe\">\n",
       "  <thead>\n",
       "    <tr style=\"text-align: right;\">\n",
       "      <th></th>\n",
       "      <th>article</th>\n",
       "      <th>category</th>\n",
       "    </tr>\n",
       "  </thead>\n",
       "  <tbody>\n",
       "    <tr>\n",
       "      <th>4461</th>\n",
       "      <td>\\n\\n\\n– የፓርላማ አባላትን ደኅንነት ፌዴራል ፖሊስ እንዲጠብቅ በጥብቅ...</td>\n",
       "      <td>Politics</td>\n",
       "    </tr>\n",
       "    <tr>\n",
       "      <th>4952</th>\n",
       "      <td>\\n\\n\\n–  ሰባት አባላቱ ተከላከሉ ተባሉ\\nአይኤስ በሊቢያ በኢትዮጵያው...</td>\n",
       "      <td>Politics</td>\n",
       "    </tr>\n",
       "  </tbody>\n",
       "</table>\n",
       "</div>"
      ],
      "text/plain": [
       "                                                article  category\n",
       "4461  \\n\\n\\n– የፓርላማ አባላትን ደኅንነት ፌዴራል ፖሊስ እንዲጠብቅ በጥብቅ...  Politics\n",
       "4952  \\n\\n\\n–  ሰባት አባላቱ ተከላከሉ ተባሉ\\nአይኤስ በሊቢያ በኢትዮጵያው...  Politics"
      ]
     },
     "execution_count": 140,
     "metadata": {},
     "output_type": "execute_result"
    }
   ],
   "source": [
    "data['article'] = data['NEWS_CONTENT']\n",
    "data['category'] = 'Politics'\n",
    "data = data[['article','category']]\n",
    "data.head(2)"
   ]
  },
  {
   "cell_type": "code",
   "execution_count": 141,
   "metadata": {},
   "outputs": [
    {
     "data": {
      "text/plain": [
       "article     5\n",
       "category    0\n",
       "dtype: int64"
      ]
     },
     "execution_count": 141,
     "metadata": {},
     "output_type": "execute_result"
    }
   ],
   "source": [
    "data.isna().sum()"
   ]
  },
  {
   "cell_type": "code",
   "execution_count": null,
   "metadata": {},
   "outputs": [],
   "source": [
    "# data = data.dropna(subset=['article'])"
   ]
  },
  {
   "cell_type": "code",
   "execution_count": 142,
   "metadata": {},
   "outputs": [],
   "source": [
    "data.dropna(inplace=True)"
   ]
  },
  {
   "cell_type": "code",
   "execution_count": 143,
   "metadata": {},
   "outputs": [
    {
     "data": {
      "text/html": [
       "<div>\n",
       "<style scoped>\n",
       "    .dataframe tbody tr th:only-of-type {\n",
       "        vertical-align: middle;\n",
       "    }\n",
       "\n",
       "    .dataframe tbody tr th {\n",
       "        vertical-align: top;\n",
       "    }\n",
       "\n",
       "    .dataframe thead th {\n",
       "        text-align: right;\n",
       "    }\n",
       "</style>\n",
       "<table border=\"1\" class=\"dataframe\">\n",
       "  <thead>\n",
       "    <tr style=\"text-align: right;\">\n",
       "      <th></th>\n",
       "      <th>article</th>\n",
       "      <th>category</th>\n",
       "    </tr>\n",
       "  </thead>\n",
       "  <tbody>\n",
       "    <tr>\n",
       "      <th>9199</th>\n",
       "      <td>የኢትዮጵያ ንግድ ባንክ ገንዘብ ገቢ ማድረግና የውጭ ምንዛሬ መመንዘር የሚ...</td>\n",
       "      <td>ቢዝነስ</td>\n",
       "    </tr>\n",
       "    <tr>\n",
       "      <th>34534</th>\n",
       "      <td>ኦምዱሩማን ላይ በሜሪክ ስታዲየም የሞሮኮውን ካውካብ ማራካሽን ያስተናገደው...</td>\n",
       "      <td>ስፖርት</td>\n",
       "    </tr>\n",
       "    <tr>\n",
       "      <th>47154</th>\n",
       "      <td>የመንግስት ኮሙኒኬሽን ጉዳዮች ፅሀፈት ቤት ሃላፊ ሚኒስትር አቶ ሬድዋን ሁ...</td>\n",
       "      <td>ፖለቲካ</td>\n",
       "    </tr>\n",
       "    <tr>\n",
       "      <th>29148</th>\n",
       "      <td>ወደ ፕሪምየር ሊግ ለመግባት ተወሰኖለት ኋላ ላይ ውሳኔው ተቀልብሶ በከፍተ...</td>\n",
       "      <td>ስፖርት</td>\n",
       "    </tr>\n",
       "    <tr>\n",
       "      <th>43604</th>\n",
       "      <td>ኢትዮጵያ የአባይ  ወንዝን በፍትሃዊነት ለመጠቀም  ከተፋሰሱ  አገራት ጋር...</td>\n",
       "      <td>ፖለቲካ</td>\n",
       "    </tr>\n",
       "    <tr>\n",
       "      <th>1914</th>\n",
       "      <td>\\n\\n\\nየፌዴራል ፍርድ ቤቶች በኮሮና ቫይረስ ወረርሽኝ ምክንያት፣ ከመጋ...</td>\n",
       "      <td>Politics</td>\n",
       "    </tr>\n",
       "    <tr>\n",
       "      <th>11289</th>\n",
       "      <td>ባሕር ዳር፡ ጥቅምት 27/2012 ዓ.ም (አብመድ) የአማራ ክልል ኢንዱስት...</td>\n",
       "      <td>ሀገር አቀፍ ዜና</td>\n",
       "    </tr>\n",
       "    <tr>\n",
       "      <th>1735</th>\n",
       "      <td>\\n\\n\\nየአውሮፕላን አደጋ ለመድን ድርጅት የአንድ ቢሊዮን ብር ገቢ አስ...</td>\n",
       "      <td>Business</td>\n",
       "    </tr>\n",
       "    <tr>\n",
       "      <th>38097</th>\n",
       "      <td>በፌዴራሉ ከፍተኛ ፍ/ቤት የሕገ መንግሥትና የፀረ ሽብር አንደኛ ችሎት ጥፋ...</td>\n",
       "      <td>ሀገር አቀፍ ዜና</td>\n",
       "    </tr>\n",
       "    <tr>\n",
       "      <th>22192</th>\n",
       "      <td>ከመንግሥታዊ ኃላፊነታቸው በመልቀቃቸው ምክንያት ከሕዝብና ቤቶች ቆጠራ ኮሚ...</td>\n",
       "      <td>ፖለቲካ</td>\n",
       "    </tr>\n",
       "  </tbody>\n",
       "</table>\n",
       "</div>"
      ],
      "text/plain": [
       "                                                 article    category\n",
       "9199   የኢትዮጵያ ንግድ ባንክ ገንዘብ ገቢ ማድረግና የውጭ ምንዛሬ መመንዘር የሚ...        ቢዝነስ\n",
       "34534  ኦምዱሩማን ላይ በሜሪክ ስታዲየም የሞሮኮውን ካውካብ ማራካሽን ያስተናገደው...        ስፖርት\n",
       "47154  የመንግስት ኮሙኒኬሽን ጉዳዮች ፅሀፈት ቤት ሃላፊ ሚኒስትር አቶ ሬድዋን ሁ...        ፖለቲካ\n",
       "29148  ወደ ፕሪምየር ሊግ ለመግባት ተወሰኖለት ኋላ ላይ ውሳኔው ተቀልብሶ በከፍተ...        ስፖርት\n",
       "43604  ኢትዮጵያ የአባይ  ወንዝን በፍትሃዊነት ለመጠቀም  ከተፋሰሱ  አገራት ጋር...        ፖለቲካ\n",
       "1914   \\n\\n\\nየፌዴራል ፍርድ ቤቶች በኮሮና ቫይረስ ወረርሽኝ ምክንያት፣ ከመጋ...    Politics\n",
       "11289  ባሕር ዳር፡ ጥቅምት 27/2012 ዓ.ም (አብመድ) የአማራ ክልል ኢንዱስት...  ሀገር አቀፍ ዜና\n",
       "1735   \\n\\n\\nየአውሮፕላን አደጋ ለመድን ድርጅት የአንድ ቢሊዮን ብር ገቢ አስ...    Business\n",
       "38097  በፌዴራሉ ከፍተኛ ፍ/ቤት የሕገ መንግሥትና የፀረ ሽብር አንደኛ ችሎት ጥፋ...  ሀገር አቀፍ ዜና\n",
       "22192  ከመንግሥታዊ ኃላፊነታቸው በመልቀቃቸው ምክንያት ከሕዝብና ቤቶች ቆጠራ ኮሚ...        ፖለቲካ"
      ]
     },
     "execution_count": 143,
     "metadata": {},
     "output_type": "execute_result"
    }
   ],
   "source": [
    "df = pd.concat([n_data, data])\n",
    "df.sample(10)"
   ]
  },
  {
   "cell_type": "code",
   "execution_count": 144,
   "metadata": {},
   "outputs": [
    {
     "data": {
      "text/plain": [
       "article     0\n",
       "category    1\n",
       "dtype: int64"
      ]
     },
     "execution_count": 144,
     "metadata": {},
     "output_type": "execute_result"
    }
   ],
   "source": [
    "df.isna().sum()"
   ]
  },
  {
   "cell_type": "code",
   "execution_count": 145,
   "metadata": {},
   "outputs": [
    {
     "name": "stdout",
     "output_type": "stream",
     "text": [
      "<class 'pandas.core.frame.DataFrame'>\n",
      "Int64Index: 61915 entries, 37944 to 4365\n",
      "Data columns (total 2 columns):\n",
      " #   Column    Non-Null Count  Dtype \n",
      "---  ------    --------------  ----- \n",
      " 0   article   61915 non-null  object\n",
      " 1   category  61914 non-null  object\n",
      "dtypes: object(2)\n",
      "memory usage: 1.4+ MB\n"
     ]
    }
   ],
   "source": [
    "df.info()"
   ]
  },
  {
   "cell_type": "code",
   "execution_count": 147,
   "metadata": {},
   "outputs": [],
   "source": [
    "n_data = df.copy()"
   ]
  },
  {
   "cell_type": "code",
   "execution_count": 148,
   "metadata": {},
   "outputs": [
    {
     "data": {
      "text/plain": [
       "ሀገር አቀፍ ዜና    20674\n",
       "ስፖርት          10411\n",
       "ፖለቲካ           9325\n",
       "ዓለም አቀፍ ዜና     6543\n",
       "Business       5276\n",
       "Politics       5156\n",
       "ቢዝነስ           3894\n",
       "መዝናኛ            635\n",
       "Name: category, dtype: int64"
      ]
     },
     "execution_count": 148,
     "metadata": {},
     "output_type": "execute_result"
    }
   ],
   "source": [
    "n_data.category.value_counts()\n"
   ]
  },
  {
   "cell_type": "code",
   "execution_count": 153,
   "metadata": {},
   "outputs": [
    {
     "data": {
      "text/plain": [
       "array(['ሀገር አቀፍ ዜና', 'መዝናኛ', 'ፖለቲካ', 'ስፖርት', 'ቢዝነስ', 'ዓለም አቀፍ ዜና', nan,\n",
       "       'Business', 'Politics'], dtype=object)"
      ]
     },
     "execution_count": 153,
     "metadata": {},
     "output_type": "execute_result"
    }
   ],
   "source": [
    "n_data.category.unique()"
   ]
  },
  {
   "cell_type": "code",
   "execution_count": 154,
   "metadata": {},
   "outputs": [
    {
     "data": {
      "text/html": [
       "<div>\n",
       "<style scoped>\n",
       "    .dataframe tbody tr th:only-of-type {\n",
       "        vertical-align: middle;\n",
       "    }\n",
       "\n",
       "    .dataframe tbody tr th {\n",
       "        vertical-align: top;\n",
       "    }\n",
       "\n",
       "    .dataframe thead th {\n",
       "        text-align: right;\n",
       "    }\n",
       "</style>\n",
       "<table border=\"1\" class=\"dataframe\">\n",
       "  <thead>\n",
       "    <tr style=\"text-align: right;\">\n",
       "      <th></th>\n",
       "      <th>article</th>\n",
       "      <th>category</th>\n",
       "    </tr>\n",
       "  </thead>\n",
       "  <tbody>\n",
       "    <tr>\n",
       "      <th>755</th>\n",
       "      <td>\\n\\n\\nየኢትዮጵያ ብሔራዊ ባንክ መመርያ መሠረት እንደ አዲስ መሰጠት ያ...</td>\n",
       "      <td>Business</td>\n",
       "    </tr>\n",
       "    <tr>\n",
       "      <th>35876</th>\n",
       "      <td>የሱዳን ሉዓላዊ የሽግግር ምክር ቤት ሊቀመንበር ጀነራል አብዱልፈታህ አል ...</td>\n",
       "      <td>Local News</td>\n",
       "    </tr>\n",
       "    <tr>\n",
       "      <th>19389</th>\n",
       "      <td>አዲስ አበባ፣ የካቲት 26፣ 2012 (ኤፍ.ቢ.ሲ) 5ኛው የተባበሩት መንግ...</td>\n",
       "      <td>International News</td>\n",
       "    </tr>\n",
       "    <tr>\n",
       "      <th>26492</th>\n",
       "      <td>የኢትዮጵያ አየር መንገድ ባለፈው ሰኔ ወር በተጠናቀቀው እ.ኤ.አ. የ201...</td>\n",
       "      <td>Business</td>\n",
       "    </tr>\n",
       "    <tr>\n",
       "      <th>50957</th>\n",
       "      <td>በመንግሥት የሚፈፀምን ሙስና ተቃውመው አደባባይ ከወጡ ግብፃውያን መካከል ...</td>\n",
       "      <td>Politics</td>\n",
       "    </tr>\n",
       "    <tr>\n",
       "      <th>5037</th>\n",
       "      <td>\\n\\n\\nከኢትዮጵያውያን ዴሞክራሲያዊ ፓርቲ (ኢዴፓ) ነባር አመራሮች አን...</td>\n",
       "      <td>Politics</td>\n",
       "    </tr>\n",
       "    <tr>\n",
       "      <th>4975</th>\n",
       "      <td>አዳማ\\n:- በኢትዮጵያ በተጀመረው የለውጥ እንቅስቃሴ ለአርአያነት የሚበቁ...</td>\n",
       "      <td>Local News</td>\n",
       "    </tr>\n",
       "    <tr>\n",
       "      <th>58</th>\n",
       "      <td>ሱራ ሽቅብ ሽቅብ ያቃስታል። ግዝፈቱ ያስጨንቀዋል። ልብስ አይበቃውም። የጫ...</td>\n",
       "      <td>Entertainment</td>\n",
       "    </tr>\n",
       "    <tr>\n",
       "      <th>6200</th>\n",
       "      <td>የአዲስ አበባ ከተማ አስተዳደርና የቤተ ክርስቲያኒቱ ቅዱስ ሲኖዶስ በተ...</td>\n",
       "      <td>Local News</td>\n",
       "    </tr>\n",
       "    <tr>\n",
       "      <th>22038</th>\n",
       "      <td>ነዳጅ ድርጅት ከጠቅላይ ሚኒስትር ጽሕፈት ቤት ጋር እየተነጋገርኩ ነው ብሏ...</td>\n",
       "      <td>Business</td>\n",
       "    </tr>\n",
       "  </tbody>\n",
       "</table>\n",
       "</div>"
      ],
      "text/plain": [
       "                                                 article            category\n",
       "755    \\n\\n\\nየኢትዮጵያ ብሔራዊ ባንክ መመርያ መሠረት እንደ አዲስ መሰጠት ያ...            Business\n",
       "35876  የሱዳን ሉዓላዊ የሽግግር ምክር ቤት ሊቀመንበር ጀነራል አብዱልፈታህ አል ...          Local News\n",
       "19389  አዲስ አበባ፣ የካቲት 26፣ 2012 (ኤፍ.ቢ.ሲ) 5ኛው የተባበሩት መንግ...  International News\n",
       "26492  የኢትዮጵያ አየር መንገድ ባለፈው ሰኔ ወር በተጠናቀቀው እ.ኤ.አ. የ201...            Business\n",
       "50957  በመንግሥት የሚፈፀምን ሙስና ተቃውመው አደባባይ ከወጡ ግብፃውያን መካከል ...            Politics\n",
       "5037   \\n\\n\\nከኢትዮጵያውያን ዴሞክራሲያዊ ፓርቲ (ኢዴፓ) ነባር አመራሮች አን...            Politics\n",
       "4975   አዳማ\\n:- በኢትዮጵያ በተጀመረው የለውጥ እንቅስቃሴ ለአርአያነት የሚበቁ...          Local News\n",
       "58     ሱራ ሽቅብ ሽቅብ ያቃስታል። ግዝፈቱ ያስጨንቀዋል። ልብስ አይበቃውም። የጫ...       Entertainment\n",
       "6200     የአዲስ አበባ ከተማ አስተዳደርና የቤተ ክርስቲያኒቱ ቅዱስ ሲኖዶስ በተ...          Local News\n",
       "22038  ነዳጅ ድርጅት ከጠቅላይ ሚኒስትር ጽሕፈት ቤት ጋር እየተነጋገርኩ ነው ብሏ...            Business"
      ]
     },
     "execution_count": 154,
     "metadata": {},
     "output_type": "execute_result"
    }
   ],
   "source": [
    "df = n_data.copy()\n",
    "d_replace = {'ፖለቲካ':'Politics', \n",
    "            'ሀገር አቀፍ ዜና':'Local News', \n",
    "            'ስፖርት':'Sports', \n",
    "            'ዓለም አቀፍ ዜና':'International News', \n",
    "            'ቢዝነስ':'Business', \n",
    "            'መዝናኛ':'Entertainment', \n",
    "            'Business':'Business',              # for the ones already changed before\n",
    "            'Politics':'Politics', \n",
    "            np.nan:'Others'}\n",
    "df.category = n_data.category.map(d_replace)\n",
    "df.sample(10)"
   ]
  },
  {
   "cell_type": "code",
   "execution_count": 155,
   "metadata": {},
   "outputs": [
    {
     "data": {
      "text/plain": [
       "article     0\n",
       "category    0\n",
       "dtype: int64"
      ]
     },
     "execution_count": 155,
     "metadata": {},
     "output_type": "execute_result"
    }
   ],
   "source": [
    "df.isnull().sum()"
   ]
  },
  {
   "cell_type": "code",
   "execution_count": 157,
   "metadata": {},
   "outputs": [],
   "source": [
    "n_data = df.copy()"
   ]
  },
  {
   "cell_type": "code",
   "execution_count": 158,
   "metadata": {},
   "outputs": [
    {
     "name": "stdout",
     "output_type": "stream",
     "text": [
      "<class 'pandas.core.frame.DataFrame'>\n",
      "Int64Index: 61915 entries, 37944 to 4365\n",
      "Data columns (total 2 columns):\n",
      " #   Column    Non-Null Count  Dtype \n",
      "---  ------    --------------  ----- \n",
      " 0   article   61915 non-null  object\n",
      " 1   category  61915 non-null  object\n",
      "dtypes: object(2)\n",
      "memory usage: 1.4+ MB\n"
     ]
    }
   ],
   "source": [
    "n_data.info()"
   ]
  },
  {
   "attachments": {},
   "cell_type": "markdown",
   "metadata": {},
   "source": [
    "## Save merged data"
   ]
  },
  {
   "cell_type": "code",
   "execution_count": 159,
   "metadata": {},
   "outputs": [
    {
     "data": {
      "text/plain": [
       "'../data/Amharic_corpus_merged_2023-04-16.csv'"
      ]
     },
     "execution_count": 159,
     "metadata": {},
     "output_type": "execute_result"
    }
   ],
   "source": [
    "dest_path"
   ]
  },
  {
   "cell_type": "code",
   "execution_count": 160,
   "metadata": {},
   "outputs": [],
   "source": [
    "n_data.to_csv(dest_path, index = False, encoding='utf-8')"
   ]
  }
 ],
 "metadata": {
  "kernelspec": {
   "display_name": "Python 3",
   "language": "python",
   "name": "python3"
  },
  "language_info": {
   "codemirror_mode": {
    "name": "ipython",
    "version": 3
   },
   "file_extension": ".py",
   "mimetype": "text/x-python",
   "name": "python",
   "nbconvert_exporter": "python",
   "pygments_lexer": "ipython3",
   "version": "3.9.13"
  },
  "orig_nbformat": 4
 },
 "nbformat": 4,
 "nbformat_minor": 2
}
